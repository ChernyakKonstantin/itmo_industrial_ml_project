{
 "cells": [
  {
   "cell_type": "code",
   "execution_count": 1,
   "metadata": {},
   "outputs": [],
   "source": [
    "import pandas as pd\n",
    "import datetime\n",
    "import numpy as np\n",
    "import pandas as pd\n",
    "import pickle\n",
    "from tqdm import tqdm"
   ]
  },
  {
   "cell_type": "code",
   "execution_count": 2,
   "metadata": {},
   "outputs": [],
   "source": [
    "PATH = \"./train_data.csv\""
   ]
  },
  {
   "cell_type": "code",
   "execution_count": 3,
   "metadata": {},
   "outputs": [],
   "source": [
    "df = pd.read_csv(PATH)"
   ]
  },
  {
   "cell_type": "code",
   "execution_count": 4,
   "metadata": {},
   "outputs": [],
   "source": [
    "df = df[(df.lat > 59.831191) & (df.lat < 60.039332) & (df.lon > 30.142969) & (df.lon < 30.515771)]"
   ]
  },
  {
   "cell_type": "code",
   "execution_count": 5,
   "metadata": {},
   "outputs": [],
   "source": [
    "def get_all_timestamps(min_v: int, max_v: int, name: str = \"timestamp\") -> pd.DataFrame:\n",
    "    delta = datetime.timedelta(hours=1)\n",
    "    min_v = datetime.datetime.fromtimestamp(min_v)\n",
    "    max_v = datetime.datetime.fromtimestamp(max_v)\n",
    "    value = min_v\n",
    "    values = [value, ]\n",
    "    while value != max_v:\n",
    "        value += delta\n",
    "        values.append(value)\n",
    "    values = list(map(lambda x: x.timestamp(), values))\n",
    "    df = pd.DataFrame()\n",
    "    df[name] = values\n",
    "    return df"
   ]
  },
  {
   "cell_type": "code",
   "execution_count": 6,
   "metadata": {},
   "outputs": [],
   "source": [
    "all_timestamps = get_all_timestamps(df.timestamp.min(), df.timestamp.max())"
   ]
  },
  {
   "cell_type": "code",
   "execution_count": 7,
   "metadata": {},
   "outputs": [
    {
     "name": "stderr",
     "output_type": "stream",
     "text": [
      "100%|██████████| 6658/6658 [01:45<00:00, 63.31it/s]\n"
     ]
    }
   ],
   "source": [
    "train_points = []\n",
    "val_points = []\n",
    "train_groups = []\n",
    "val_groups = []\n",
    "n_records = []\n",
    "for point, g in tqdm(df.groupby(\"point\")):\n",
    "    g = g.groupby(\"timestamp\").apply(len).to_frame(\"n_pubs\").reset_index(drop=False)\n",
    "    g = g.merge(all_timestamps, how=\"outer\", on=\"timestamp\")\n",
    "    g = g.fillna(0)\n",
    "    year = g[\"timestamp\"].apply(datetime.datetime.fromtimestamp).apply(lambda x: x.year)\n",
    "    g_train = g[year == 2019].set_index(\"timestamp\").sort_index()[\"n_pubs\"]\n",
    "    g_val = g[year == 2020].set_index(\"timestamp\").sort_index()[\"n_pubs\"]\n",
    "    if len(g_train) == 0:\n",
    "        continue\n",
    "    train_points.append(point)\n",
    "    val_points.append(point)\n",
    "    train_groups.append(g_train)\n",
    "    val_groups.append(g_val)\n",
    "    n_records.append((g_train > 0).sum())"
   ]
  },
  {
   "cell_type": "code",
   "execution_count": 12,
   "metadata": {},
   "outputs": [
    {
     "data": {
      "text/plain": [
       "count    6658.000000\n",
       "mean      490.449384\n",
       "std      1107.006545\n",
       "min         0.000000\n",
       "25%        15.000000\n",
       "50%        72.000000\n",
       "75%       339.000000\n",
       "max      8374.000000\n",
       "dtype: float64"
      ]
     },
     "execution_count": 12,
     "metadata": {},
     "output_type": "execute_result"
    }
   ],
   "source": [
    "pd.Series(n_records).describe()"
   ]
  },
  {
   "cell_type": "code",
   "execution_count": 13,
   "metadata": {},
   "outputs": [],
   "source": [
    "selected_idxes = np.where(np.array(n_records) >= 339)[0]"
   ]
  },
  {
   "cell_type": "code",
   "execution_count": 14,
   "metadata": {},
   "outputs": [],
   "source": [
    "train_points = [train_points[i] for i in selected_idxes]\n",
    "train_groups = [train_groups[i] for i in selected_idxes]"
   ]
  },
  {
   "cell_type": "code",
   "execution_count": 15,
   "metadata": {},
   "outputs": [],
   "source": [
    "selected_idxes = [i for i, val_point in enumerate(val_points) if val_point in train_points]"
   ]
  },
  {
   "cell_type": "code",
   "execution_count": 17,
   "metadata": {},
   "outputs": [],
   "source": [
    "val_points = [val_points[i] for i in selected_idxes]\n",
    "val_groups = [val_groups[i] for i in selected_idxes]"
   ]
  },
  {
   "cell_type": "code",
   "execution_count": 25,
   "metadata": {},
   "outputs": [],
   "source": [
    "data = {\n",
    "    \"train\": {\n",
    "        \"points\": train_points,\n",
    "        \"groups\": train_groups,\n",
    "    },\n",
    "    \"val\": {\n",
    "        \"points\": val_points,\n",
    "        \"groups\": val_groups,\n",
    "    },\n",
    "}"
   ]
  },
  {
   "cell_type": "code",
   "execution_count": 26,
   "metadata": {},
   "outputs": [],
   "source": [
    "with open(\"data/selected_data.pickle\", \"wb\") as f:\n",
    "    pickle.dump(data, f)"
   ]
  },
  {
   "cell_type": "code",
   "execution_count": null,
   "metadata": {},
   "outputs": [],
   "source": []
  }
 ],
 "metadata": {
  "kernelspec": {
   "display_name": "industrial_ml",
   "language": "python",
   "name": "python3"
  },
  "language_info": {
   "codemirror_mode": {
    "name": "ipython",
    "version": 3
   },
   "file_extension": ".py",
   "mimetype": "text/x-python",
   "name": "python",
   "nbconvert_exporter": "python",
   "pygments_lexer": "ipython3",
   "version": "3.9.18"
  },
  "orig_nbformat": 4
 },
 "nbformat": 4,
 "nbformat_minor": 2
}
