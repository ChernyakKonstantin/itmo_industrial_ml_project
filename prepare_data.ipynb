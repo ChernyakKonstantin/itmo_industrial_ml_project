{
 "cells": [
  {
   "cell_type": "code",
   "execution_count": 28,
   "metadata": {},
   "outputs": [],
   "source": [
    "import pandas as pd\n",
    "import datetime\n",
    "import numpy as np\n",
    "import pandas as pd\n",
    "import pickle"
   ]
  },
  {
   "cell_type": "code",
   "execution_count": 2,
   "metadata": {},
   "outputs": [],
   "source": [
    "PATH = \"./train_data.csv\""
   ]
  },
  {
   "cell_type": "code",
   "execution_count": 3,
   "metadata": {},
   "outputs": [],
   "source": [
    "df = pd.read_csv(PATH)"
   ]
  },
  {
   "cell_type": "code",
   "execution_count": 4,
   "metadata": {},
   "outputs": [],
   "source": [
    "df = df[(df.lat > 59.831191) & (df.lat < 60.039332) & (df.lon > 30.142969) & (df.lon < 30.515771)]"
   ]
  },
  {
   "cell_type": "code",
   "execution_count": 5,
   "metadata": {},
   "outputs": [],
   "source": [
    "def get_all_timestamps(min_v: int, max_v: int, name: str = \"timestamp\") -> pd.DataFrame:\n",
    "    delta = datetime.timedelta(hours=1)\n",
    "    min_v = datetime.datetime.fromtimestamp(min_v)\n",
    "    max_v = datetime.datetime.fromtimestamp(max_v)\n",
    "    value = min_v\n",
    "    values = [value, ]\n",
    "    while value != max_v:\n",
    "        value += delta\n",
    "        values.append(value)\n",
    "    values = list(map(lambda x: x.timestamp(), values))\n",
    "    df = pd.DataFrame()\n",
    "    df[name] = values\n",
    "    return df"
   ]
  },
  {
   "cell_type": "code",
   "execution_count": 6,
   "metadata": {},
   "outputs": [],
   "source": [
    "all_timestamps = get_all_timestamps(df.timestamp.min(), df.timestamp.max())"
   ]
  },
  {
   "cell_type": "code",
   "execution_count": 12,
   "metadata": {},
   "outputs": [],
   "source": [
    "points = []\n",
    "groups = []\n",
    "n_records = []\n",
    "for point, g in df.groupby(\"point\"):\n",
    "    points.append(point)\n",
    "    g = g.groupby(\"timestamp\").apply(len).to_frame(\"n_pubs\").reset_index(drop=False)\n",
    "    n_records.append(len(g))\n",
    "    g = g.merge(all_timestamps, how=\"outer\", on=\"timestamp\")\n",
    "    g = g.fillna(0)\n",
    "    g = g.set_index(\"timestamp\").sort_index()[\"n_pubs\"]\n",
    "    groups.append(g)"
   ]
  },
  {
   "cell_type": "code",
   "execution_count": 13,
   "metadata": {},
   "outputs": [
    {
     "data": {
      "text/plain": [
       "count    6658.000000\n",
       "mean      532.834935\n",
       "std      1198.525750\n",
       "min         1.000000\n",
       "25%        17.000000\n",
       "50%        79.000000\n",
       "75%       371.000000\n",
       "max      9119.000000\n",
       "dtype: float64"
      ]
     },
     "execution_count": 13,
     "metadata": {},
     "output_type": "execute_result"
    }
   ],
   "source": [
    "pd.Series(n_records).describe()"
   ]
  },
  {
   "cell_type": "code",
   "execution_count": 17,
   "metadata": {},
   "outputs": [],
   "source": [
    "selected_idxes = np.where(np.array(n_records) >= 371)[0]"
   ]
  },
  {
   "cell_type": "code",
   "execution_count": 18,
   "metadata": {},
   "outputs": [],
   "source": [
    "points = [points[i] for i in selected_idxes]\n",
    "groups = [groups[i] for i in selected_idxes]"
   ]
  },
  {
   "cell_type": "code",
   "execution_count": 29,
   "metadata": {},
   "outputs": [],
   "source": [
    "with open(\"data/selected_data.pickle\", \"wb\") as f:\n",
    "    pickle.dump({\"points\": points, \"groups\": groups}, f)"
   ]
  },
  {
   "cell_type": "code",
   "execution_count": null,
   "metadata": {},
   "outputs": [],
   "source": []
  }
 ],
 "metadata": {
  "kernelspec": {
   "display_name": "industrial_ml",
   "language": "python",
   "name": "python3"
  },
  "language_info": {
   "codemirror_mode": {
    "name": "ipython",
    "version": 3
   },
   "file_extension": ".py",
   "mimetype": "text/x-python",
   "name": "python",
   "nbconvert_exporter": "python",
   "pygments_lexer": "ipython3",
   "version": "3.9.18"
  },
  "orig_nbformat": 4
 },
 "nbformat": 4,
 "nbformat_minor": 2
}
